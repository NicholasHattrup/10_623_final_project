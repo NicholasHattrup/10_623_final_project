{
 "cells": [
  {
   "cell_type": "code",
   "execution_count": 30,
   "metadata": {},
   "outputs": [],
   "source": [
    "from torch_geometric.utils import to_dense_adj\n",
    "from torch_geometric.datasets import QM9 \n",
    "from tqdm import tqdm\n",
    "import torch\n",
    "import numpy as np"
   ]
  },
  {
   "cell_type": "code",
   "execution_count": 4,
   "metadata": {},
   "outputs": [],
   "source": [
    "path = '/mnt/mntsdb/genai/10_623_final_project/dataset/QM9'\n",
    "dataset = QM9(path)"
   ]
  },
  {
   "cell_type": "code",
   "execution_count": 32,
   "metadata": {},
   "outputs": [],
   "source": [
    "\n",
    "def one_hot_vector(val, lst):\n",
    "    \"\"\"Converts a value to a one-hot vector based on options in lst\"\"\"\n",
    "    if val not in lst:\n",
    "        val = lst[-1]\n",
    "    return map(lambda x: x == val, lst)\n",
    "\n",
    "\n",
    "\n",
    "def get_node_features(\n",
    "    mol,\n",
    ") -> torch.Tensor:\n",
    "\n",
    "    row, col = mol.edge_index\n",
    "    N = mol.num_nodes\n",
    "    feats = []\n",
    "    for i in range(N):\n",
    "        attrs: list[float] = []\n",
    "        # 1) atomic number\n",
    "        attrs += one_hot_vector(\n",
    "            int(mol.z[i].item()),\n",
    "            [5, 6, 7, 8, 9, 15, 16, 17, 35, 53, 999]\n",
    "        )\n",
    "        # find all neighbors j of i via directed edges (i->j)\n",
    "        nbrs = col[(row == i)]\n",
    "        deg = int(nbrs.size(0))\n",
    "        # 2) degree\n",
    "        attrs += one_hot_vector(\n",
    "            deg,\n",
    "            [0, 1, 2, 3, 4, 5]\n",
    "        )\n",
    "        # 3) H-neighbor count (atomic number == 1)\n",
    "        h_count = int((mol.z[nbrs] == 1).sum().item())\n",
    "        attrs += one_hot_vector(\n",
    "            h_count,\n",
    "            [0, 1, 2, 3, 4]\n",
    "        )\n",
    "\n",
    "        feats.append(np.array(attrs, dtype=np.float32))\n",
    "\n",
    "    # stack into a single (N, D) array\n",
    "    return np.stack(feats, axis=0)\n",
    "\n",
    "\n",
    "_atomic_number_to_symbol = {\n",
    "    1: 'H',\n",
    "    6: 'C',\n",
    "    7: 'N',\n",
    "    8: 'O',\n",
    "    9: 'F',\n",
    "}\n",
    "\n",
    "def get_qm9_features(mol):\n",
    "\n",
    "    adj = to_dense_adj(mol.edge_index)[0]\n",
    "\n",
    "    pos  = mol.pos                 \n",
    "    dist = torch.cdist(pos, pos) \n",
    "\n",
    "    # 5) atomic symbols\n",
    "    z_array = mol.z.tolist()       # list of ints\n",
    "    symbols = [_atomic_number_to_symbol.get(z, '999') for z in z_array]\n",
    "\n",
    "    node_features = get_node_features(mol)\n",
    "\n",
    "    return node_features, adj.cpu().numpy(), dist.cpu().numpy(), pos.cpu().numpy(), symbols"
   ]
  },
  {
   "cell_type": "code",
   "execution_count": 11,
   "metadata": {},
   "outputs": [
    {
     "name": "stderr",
     "output_type": "stream",
     "text": [
      "  0%|                                                                                        | 0/130831 [00:00<?, ?it/s]"
     ]
    },
    {
     "name": "stderr",
     "output_type": "stream",
     "text": [
      "100%|████████████████████████████████████████████████████████████████████████| 130831/130831 [00:02<00:00, 56428.11it/s]\n"
     ]
    }
   ],
   "source": [
    "dataset_ss = {mol.smiles : mol for mol in tqdm(dataset)}"
   ]
  },
  {
   "cell_type": "code",
   "execution_count": 33,
   "metadata": {},
   "outputs": [
    {
     "name": "stderr",
     "output_type": "stream",
     "text": [
      "100%|██████████████████████████████████████████████████████████████████████████| 130729/130729 [02:38<00:00, 825.80it/s]\n"
     ]
    }
   ],
   "source": [
    "features = {ss : get_qm9_features(mol) for ss, mol in tqdm(dataset_ss.items())}"
   ]
  },
  {
   "cell_type": "code",
   "execution_count": 34,
   "metadata": {},
   "outputs": [
    {
     "data": {
      "text/plain": [
       "(array([[0., 1., 0., 0., 0., 0., 0., 0., 0., 0., 0., 0., 0., 0., 0., 1.,\n",
       "         0., 0., 0., 0., 0., 1.],\n",
       "        [0., 0., 0., 0., 0., 0., 0., 0., 0., 0., 1., 0., 1., 0., 0., 0.,\n",
       "         0., 1., 0., 0., 0., 0.],\n",
       "        [0., 0., 0., 0., 0., 0., 0., 0., 0., 0., 1., 0., 1., 0., 0., 0.,\n",
       "         0., 1., 0., 0., 0., 0.],\n",
       "        [0., 0., 0., 0., 0., 0., 0., 0., 0., 0., 1., 0., 1., 0., 0., 0.,\n",
       "         0., 1., 0., 0., 0., 0.],\n",
       "        [0., 0., 0., 0., 0., 0., 0., 0., 0., 0., 1., 0., 1., 0., 0., 0.,\n",
       "         0., 1., 0., 0., 0., 0.]], dtype=float32),\n",
       " array([[0., 1., 1., 1., 1.],\n",
       "        [1., 0., 0., 0., 0.],\n",
       "        [1., 0., 0., 0., 0.],\n",
       "        [1., 0., 0., 0., 0.],\n",
       "        [1., 0., 0., 0., 0.]], dtype=float32),\n",
       " array([[0.       , 1.0919182, 1.0919425, 1.0918945, 1.0919341],\n",
       "        [1.0919182, 0.       , 1.7830887, 1.783101 , 1.7831048],\n",
       "        [1.0919425, 1.7830887, 0.       , 1.7831084, 1.7831008],\n",
       "        [1.0918945, 1.783101 , 1.7831084, 0.       , 1.7831068],\n",
       "        [1.0919341, 1.7831048, 1.7831008, 1.7831068, 0.       ]],\n",
       "       dtype=float32),\n",
       " array([[-1.2700e-02,  1.0858e+00,  8.0000e-03],\n",
       "        [ 2.2000e-03, -6.0000e-03,  2.0000e-03],\n",
       "        [ 1.0117e+00,  1.4638e+00,  3.0000e-04],\n",
       "        [-5.4080e-01,  1.4475e+00, -8.7660e-01],\n",
       "        [-5.2380e-01,  1.4379e+00,  9.0640e-01]], dtype=float32),\n",
       " ['C', 'H', 'H', 'H', 'H'])"
      ]
     },
     "execution_count": 34,
     "metadata": {},
     "output_type": "execute_result"
    }
   ],
   "source": [
    "features['[H]C([H])([H])[H]']"
   ]
  },
  {
   "cell_type": "code",
   "execution_count": 39,
   "metadata": {},
   "outputs": [],
   "source": [
    "def dict_to_npz(data_dict: dict[str, tuple], npz_path: str):\n",
    "    smiles_list = list(data_dict.keys())\n",
    "    values      = list(data_dict.values())\n",
    "    feats_list, adj_list, dist_list, pos_list, symbols_list = zip(*values)\n",
    "\n",
    "    def make_array(lst):\n",
    "        return np.array(lst, dtype=object)\n",
    "\n",
    "    smiles_arr = np.array(smiles_list, dtype='<U')  # or dtype=object if very long\n",
    "    feats_arr  = make_array(feats_list)\n",
    "    adj_arr    = make_array(adj_list)\n",
    "    dist_arr   = make_array(dist_list)\n",
    "    pos_arr    = make_array(pos_list)\n",
    "    syms_arr   = make_array(symbols_list)\n",
    "\n",
    "    np.savez_compressed(\n",
    "        npz_path,\n",
    "        smiles = smiles_arr,\n",
    "        feats  = feats_arr,\n",
    "        adj    = adj_arr,\n",
    "        dist   = dist_arr,\n",
    "        pos    = pos_arr,\n",
    "        symbols= syms_arr,\n",
    "    )\n"
   ]
  },
  {
   "cell_type": "code",
   "execution_count": 41,
   "metadata": {},
   "outputs": [],
   "source": [
    "path = \"/mnt/mntsdb/genai/10_623_final_project/dataset/quantum_features.npz\"\n",
    "dict_to_npz(features, path)"
   ]
  },
  {
   "cell_type": "code",
   "execution_count": null,
   "metadata": {},
   "outputs": [],
   "source": []
  }
 ],
 "metadata": {
  "kernelspec": {
   "display_name": "Python (myenv)",
   "language": "python",
   "name": "myenv"
  },
  "language_info": {
   "codemirror_mode": {
    "name": "ipython",
    "version": 3
   },
   "file_extension": ".py",
   "mimetype": "text/x-python",
   "name": "python",
   "nbconvert_exporter": "python",
   "pygments_lexer": "ipython3",
   "version": "3.12.9"
  }
 },
 "nbformat": 4,
 "nbformat_minor": 2
}
